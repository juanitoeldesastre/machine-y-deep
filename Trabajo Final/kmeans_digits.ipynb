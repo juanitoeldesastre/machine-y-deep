{
 "cells": [
  {
   "cell_type": "code",
   "execution_count": null,
   "metadata": {
    "vscode": {
     "languageId": "plaintext"
    }
   },
   "outputs": [],
   "source": [
    "# Cargar librerías necesarias\n",
    "import numpy as np\n",
    "import matplotlib.pyplot as plt\n",
    "from sklearn.datasets import fetch_openml\n",
    "from sklearn.decomposition import PCA\n",
    "from sklearn.metrics import accuracy_score\n",
    "from sklearn.cluster import KMeans\n",
    "from sklearn.preprocessing import StandardScaler\n",
    "\n",
    "# 1. Cargar el conjunto de datos MNIST\n",
    "print(\"Cargando datos...\")\n",
    "mnist = fetch_openml(\"mnist_784\", version=1, as_frame=False)\n",
    "X, y = mnist.data, mnist.target\n",
    "y = y.astype(int)  # Convertir etiquetas a enteros\n",
    "\n",
    "# Escalar los datos\n",
    "scaler = StandardScaler()\n",
    "X_scaled = scaler.fit_transform(X)\n",
    "\n",
    "# Reducir dimensionalidad con PCA para visualizar y mejorar desempeño\n",
    "print(\"Reduciendo dimensionalidad...\")\n",
    "pca = PCA(n_components=50)  # Reducción a 50 componentes principales\n",
    "X_pca = pca.fit_transform(X_scaled)\n",
    "\n",
    "# 2. Implementar el algoritmo K-Means\n",
    "print(\"Ejecutando K-Means...\")\n",
    "kmeans = KMeans(n_clusters=10, random_state=42)  # 10 grupos para los dígitos\n",
    "kmeans.fit(X_pca)\n",
    "\n",
    "# 3. Asociar etiquetas de los clústeres a los dígitos\n",
    "print(\"Mapeando etiquetas...\")\n",
    "cluster_labels = np.zeros_like(kmeans.labels_)\n",
    "\n",
    "for i in range(10):  # Iterar sobre cada clúster\n",
    "    mask = kmeans.labels_ == i\n",
    "    cluster_labels[i] = np.bincount(y[mask]).argmax()\n",
    "\n",
    "# Calcular precisión\n",
    "accuracy = accuracy_score(y, cluster_labels[kmeans.labels_])\n",
    "print(f\"Precisión del modelo: {accuracy * 100:.2f}%\")\n",
    "\n",
    "# 4. Visualizar algunos dígitos con sus clústeres\n",
    "print(\"Visualizando resultados...\")\n",
    "fig, ax = plt.subplots(1, 10, figsize=(15, 4))\n",
    "centroids = kmeans.cluster_centers_\n",
    "\n",
    "for i in range(10):\n",
    "    ax[i].imshow(pca.inverse_transform(centroids[i]).reshape(28, 28), cmap=\"gray\")\n",
    "    ax[i].axis(\"off\")\n",
    "    ax[i].set_title(f\"Clúster {i}\")\n",
    "\n",
    "plt.show()\n"
   ]
  }
 ],
 "metadata": {
  "language_info": {
   "name": "python"
  }
 },
 "nbformat": 4,
 "nbformat_minor": 2
}
